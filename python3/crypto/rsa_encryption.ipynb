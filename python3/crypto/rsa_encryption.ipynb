{
 "cells": [
  {
   "cell_type": "markdown",
   "metadata": {},
   "source": [
    "# Manually encrypting with RSA\n",
    "\n",
    "thx 4 da INFO from http://sergematovic.tripod.com/rsa1.html\n",
    "\n",
    "## What is RSA?\n",
    "\n",
    "really soupy ASS TODO\n",
    "\n",
    "## What is encryption?\n",
    "\n",
    "l33t TODO\n",
    "\n",
    "### What is asymmetric encryption?\n",
    "\n",
    "lopsided TODO\n",
    "\n",
    "### What is symmetric encryption?\n",
    "\n",
    "not lopsided TODO"
   ]
  },
  {
   "cell_type": "markdown",
   "metadata": {},
   "source": [
    "# How to actually do it\n",
    "\n",
    "## Generating public and private keys\n",
    "\n",
    "1. Pick two prime numbers, call them $p$ and $q$.\n",
    "\n",
    "   These are the so-called 'prime factors' that satisfy $n = pq$.\n",
    "\n",
    "   Let's use $p = 3$ and $q = 11$.\n",
    "   \n",
    "   $p = 3, q = 11$\n",
    "   \n",
    "  \n",
    "2. Calculate $n = p * q$.\n",
    "\n",
    "   $n = (3 * 11) = 33$.\n",
    "\n",
    "   $n = 33$\n",
    "   \n",
    "3. Calculate $z = (p-1)*(q-1)$\n",
    "   \n",
    "   $z = (3 - 1) * (11 - 1) = 2 * 10$\n",
    "   \n",
    "   $z = 20$\n",
    "   \n",
    "4. Choose a prime number $k$ such that $k$ is co-prime to $z$.\n",
    "\n",
    "   This can be reworded as:\n",
    "   \n",
    "   Choose a prime number $k$ such that $z$ is not divisible by $k$.\n",
    "   \n",
    "   Since $z = 20$, we can choose numbers like $7, 11, 13, 17, 19$, etc.\n",
    "   \n",
    "   We can't choose $5$, even though it's a prime number, because $20$ is divisible by $5$.\n",
    "   \n",
    "   Let's use $k = 7$ to simplify math.\n",
    "   \n",
    "   $k = 7$\n",
    "\n",
    "5. Our public key is as follows:\n",
    "\n",
    "   $n = 33, k = 7$\n",
    "   \n",
    "   That's all a public key is. Numbers!\n",
    "   \n",
    "   - Sidenote: The reason it takes time to crack large-numbered RSA/PGP/whatever encryption is because [_*factoring primes is an NP-class problem.*_](https://en.wikipedia.org/wiki/Integer_factorization#Difficulty_and_complexity)"
   ]
  },
  {
   "cell_type": "code",
   "execution_count": null,
   "metadata": {},
   "outputs": [],
   "source": []
  },
  {
   "cell_type": "code",
   "execution_count": null,
   "metadata": {},
   "outputs": [],
   "source": []
  }
 ],
 "metadata": {
  "kernelspec": {
   "display_name": "Python 3",
   "language": "python",
   "name": "python3"
  },
  "language_info": {
   "codemirror_mode": {
    "name": "ipython",
    "version": 3
   },
   "file_extension": ".py",
   "mimetype": "text/x-python",
   "name": "python",
   "nbconvert_exporter": "python",
   "pygments_lexer": "ipython3",
   "version": "3.6.5"
  }
 },
 "nbformat": 4,
 "nbformat_minor": 2
}
